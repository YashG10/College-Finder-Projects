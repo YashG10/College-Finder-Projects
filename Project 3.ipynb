{
 "cells": [
  {
   "cell_type": "markdown",
   "id": "cc207db1",
   "metadata": {},
   "source": [
    "# Multiplication Table\n"
   ]
  },
  {
   "cell_type": "code",
   "execution_count": 3,
   "id": "328d9cc7",
   "metadata": {},
   "outputs": [
    {
     "name": "stdout",
     "output_type": "stream",
     "text": [
      "Enter a table no: \n",
      "75\n",
      "multiplication table of  75 is\n",
      "\n",
      "75 x 1 = 75\n",
      "75 x 2 = 150\n",
      "75 x 3 = 225\n",
      "75 x 4 = 300\n",
      "75 x 5 = 375\n",
      "75 x 6 = 450\n",
      "75 x 7 = 525\n",
      "75 x 8 = 600\n",
      "75 x 9 = 675\n",
      "75 x 10 = 750\n",
      "75 x 11 = 825\n",
      "75 x 12 = 900\n",
      "75 x 13 = 975\n",
      "75 x 14 = 1050\n",
      "75 x 15 = 1125\n",
      "75 x 16 = 1200\n",
      "75 x 17 = 1275\n",
      "75 x 18 = 1350\n",
      "75 x 19 = 1425\n",
      "75 x 20 = 1500\n",
      "75 x 21 = 1575\n",
      "75 x 22 = 1650\n",
      "75 x 23 = 1725\n",
      "75 x 24 = 1800\n",
      "75 x 25 = 1875\n",
      "75 x 26 = 1950\n",
      "75 x 27 = 2025\n",
      "75 x 28 = 2100\n",
      "75 x 29 = 2175\n",
      "75 x 30 = 2250\n"
     ]
    }
   ],
   "source": [
    "a = int(input(\"Enter a table no: \\n\"))\n",
    "b = 1\n",
    "print(\"multiplication table of \" ,a, \"is\\n\")\n",
    "while(b<=30):\n",
    "    print(a, \"x\" ,b, \"=\" ,a*b)\n",
    "    b=b+1"
   ]
  },
  {
   "cell_type": "code",
   "execution_count": null,
   "id": "63a036fe",
   "metadata": {},
   "outputs": [],
   "source": []
  }
 ],
 "metadata": {
  "kernelspec": {
   "display_name": "Python 3 (ipykernel)",
   "language": "python",
   "name": "python3"
  },
  "language_info": {
   "codemirror_mode": {
    "name": "ipython",
    "version": 3
   },
   "file_extension": ".py",
   "mimetype": "text/x-python",
   "name": "python",
   "nbconvert_exporter": "python",
   "pygments_lexer": "ipython3",
   "version": "3.9.12"
  }
 },
 "nbformat": 4,
 "nbformat_minor": 5
}
