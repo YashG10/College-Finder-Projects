{
 "cells": [
  {
   "cell_type": "markdown",
   "id": "e548c201",
   "metadata": {},
   "source": [
    "# Rock, Paper, Scissor"
   ]
  },
  {
   "cell_type": "code",
   "execution_count": 1,
   "id": "a10e22e1",
   "metadata": {},
   "outputs": [
    {
     "name": "stdout",
     "output_type": "stream",
     "text": [
      "['Rock', 'Paper', 'Scissor']\n",
      "Player1 :- Enter your choice form the above mentioned! Paper\n",
      "Player2 :- Enter your choice form the above mentioned! Rock\n",
      "Player1 choosed PAPER and Player2 choosed ROCK\n",
      "Player1 has won the game\n"
     ]
    }
   ],
   "source": [
    "list=[\"Rock\", \"Paper\", \"Scissor\"]\n",
    "print(list)\n",
    "choice1 = str(input(\"Player1 :- Enter your choice form the above mentioned! \"))       #Taking user choice\n",
    "choice2 = str(input(\"Player2 :- Enter your choice form the above mentioned! \"))\n",
    "choice1 = choice1.upper()\n",
    "choice2 = choice2.upper()\n",
    "## Logic used for ROCK\n",
    "if(choice1=='ROCK') and (choice2=='ROCK'):\n",
    "    print(\"Player1 choosed {option1} and Player2 choosed {option2}\".format(option1=choice1,option2=choice2)+ \"\\nThe game is tied\")\n",
    "elif(choice1=='ROCK') and (choice2=='PAPER'):\n",
    "    print(\"Player1 choosed {option1} and Player2 choosed {option2}\".format(option1=choice1,option2=choice2)+ \"\\nPlayer2 has won the game\")\n",
    "elif(choice1=='ROCK') and (choice2=='SCISSOR'):\n",
    "    print(\"Player1 choosed {option1} and Player2 choosed {option2}\".format(option1=choice1,option2=choice2)+ \"\\nPlayer1 has Won the game.\")\n",
    "\n",
    "## Logic used for PAPER\n",
    "elif(choice1=='PAPER') and (choice2=='ROCK'):\n",
    "    print(\"Player1 choosed {option1} and Player2 choosed {option2}\".format(option1=choice1,option2=choice2)+ \"\\nPlayer1 has won the game\")\n",
    "elif(choice1=='PAPER') and (choice2=='PAPER'):\n",
    "    print(\"Player1 choosed {option1} and Player2 choosed {option2}\".format(option1=choice1,option2=choice2)+ \"\\nThe game is tied\")\n",
    "elif(choice1=='PAPER') and (choice2=='SCISSOR'):\n",
    "    print(\"Player1 choosed {option1} and Player2 choosed {option2}\".format(option1=choice1,option2=choice2)+ \"\\nPlayer2 has Won the game.\")\n",
    "\n",
    "## Logic used for SCISSOR\n",
    "elif(choice1=='SCISSOR') and (choice2=='ROCK'):\n",
    "    print(\"Player1 choosed {option1} and Player2 choosed {option2}\".format(option1=choice1,option2=choice2)+ \"\\nPlayer2 has won the game\")\n",
    "elif(choice1=='SCISSOR') and (choice2=='PAPER'):\n",
    "    print(\"Player1 choosed {option1} and Player2 choosed {option2}\".format(option1=choice1,option2=choice2)+ \"\\nPlayer1 has won the game\")\n",
    "elif(choice1=='SCISSOR') and (choice2=='SCISSOR'):\n",
    "    print(\"Player1 choosed {option1} and Player2 choosed {option2}\".format(option1=choice1,option2=choice2)+ \"\\nThe Game is Tied\")\n",
    "\n",
    "## Logic for error\n",
    "else:\n",
    "    print(\"Please choose correct option!\")\n",
    "    "
   ]
  },
  {
   "cell_type": "code",
   "execution_count": null,
   "id": "a9f98c43",
   "metadata": {},
   "outputs": [],
   "source": []
  }
 ],
 "metadata": {
  "kernelspec": {
   "display_name": "Python 3 (ipykernel)",
   "language": "python",
   "name": "python3"
  },
  "language_info": {
   "codemirror_mode": {
    "name": "ipython",
    "version": 3
   },
   "file_extension": ".py",
   "mimetype": "text/x-python",
   "name": "python",
   "nbconvert_exporter": "python",
   "pygments_lexer": "ipython3",
   "version": "3.9.12"
  }
 },
 "nbformat": 4,
 "nbformat_minor": 5
}
