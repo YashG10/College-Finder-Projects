{
 "cells": [
  {
   "cell_type": "markdown",
   "id": "4a861a80",
   "metadata": {},
   "source": [
    "# CALCULATOR\n"
   ]
  },
  {
   "cell_type": "code",
   "execution_count": 6,
   "id": "4a9af872",
   "metadata": {},
   "outputs": [
    {
     "name": "stdout",
     "output_type": "stream",
     "text": [
      "Enter your Equation: 95 * 5\n",
      "The multiplication of 95 and 5 is 475\n"
     ]
    }
   ],
   "source": [
    "#Addition\n",
    "def add(a,b):\n",
    "    addition = a + b\n",
    "    print(\"The sum of\", a ,\"and\" ,b ,\"is\", addition)\n",
    "\n",
    "#Subtraction    \n",
    "def sub(a,b):\n",
    "    substraction = a - b\n",
    "    print(\"The substraction of\", a ,\"and\" ,b ,\"is\", substraction)\n",
    "\n",
    "#Multiplication\n",
    "def mul(a,b):\n",
    "    multiplication = a * b\n",
    "    print(\"The multiplication of\", a ,\"and\" ,b ,\"is\", multiplication)\n",
    "\n",
    "#Division\n",
    "def div(a,b):\n",
    "    division = a / b\n",
    "    print(\"The division of\", a ,\"and\" ,b ,\"is\", division)\n",
    "\n",
    "#Modulus\n",
    "def mod(a,b):\n",
    "    modulo = a % b\n",
    "    print(\"The modulo of\", a ,\"and\" ,b ,\"is\", modulo)\n",
    "\n",
    "#multiple inputs accepted\n",
    "num1, oper, num2 = map(str,input(\"Enter your Equation: \").split())\n",
    "num1 = int(num1)\n",
    "num2 = int(num2)\n",
    "\n",
    "if oper == \"+\":\n",
    "    add(num1,num2)\n",
    "elif oper == \"-\":\n",
    "     sub(num1,num2)\n",
    "elif oper == \"*\":\n",
    "    mul(num1,num2)\n",
    "elif oper == \"/\":\n",
    "    div(num1,num2)\n",
    "elif oper == \"%\":\n",
    "    mod(num1,num2)\n",
    "else:\n",
    "    print(\"***Invalid Entry***\\n\")\n",
    "    print(\"Enter valid equation like 22 + 23, 15 * 22, 7 - 3\")\n"
   ]
  },
  {
   "cell_type": "code",
   "execution_count": null,
   "id": "9282eeaf",
   "metadata": {},
   "outputs": [],
   "source": []
  },
  {
   "cell_type": "code",
   "execution_count": null,
   "id": "ea345c8b",
   "metadata": {},
   "outputs": [],
   "source": []
  }
 ],
 "metadata": {
  "kernelspec": {
   "display_name": "Python 3 (ipykernel)",
   "language": "python",
   "name": "python3"
  },
  "language_info": {
   "codemirror_mode": {
    "name": "ipython",
    "version": 3
   },
   "file_extension": ".py",
   "mimetype": "text/x-python",
   "name": "python",
   "nbconvert_exporter": "python",
   "pygments_lexer": "ipython3",
   "version": "3.9.12"
  }
 },
 "nbformat": 4,
 "nbformat_minor": 5
}
